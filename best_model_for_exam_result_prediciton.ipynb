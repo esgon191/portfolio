{
 "cells": [
  {
   "cell_type": "code",
   "execution_count": 81,
   "metadata": {},
   "outputs": [],
   "source": [
    "import pandas as pd\n",
    "import numpy as np\n",
    "import matplotlib.pyplot as plt\n",
    "import seaborn as sns\n",
    "\n",
    "from sklearn.linear_model import LinearRegression, LogisticRegression\n",
    "from sklearn.model_selection import KFold"
   ]
  },
  {
   "cell_type": "markdown",
   "metadata": {},
   "source": [
    "# Задача\n",
    "Подобрать лучшую модель для предсказания оценок учеников в конце семестра на основе данных об успехах в учебе на протяжении семестра. Считать ${R^2}$ > `0.8` хорошим результатом."
   ]
  },
  {
   "cell_type": "code",
   "execution_count": 82,
   "metadata": {},
   "outputs": [],
   "source": [
    "# Все исходные данные\n",
    "data = pd.read_excel('data.xlsx')\n",
    "\n",
    "# Удалим колонки, которые не несут в себе полезной информации\n",
    "data = data.drop(['Зачет', '№', 'ФИО'], axis=1)\n",
    "\n",
    "# Сохраним максимальные баллы за каждый критерий в отедельный DataFrame\n",
    "maximums = data.loc[27]\n",
    "data.drop(27, axis=0, inplace=True)"
   ]
  },
  {
   "cell_type": "code",
   "execution_count": 83,
   "metadata": {},
   "outputs": [],
   "source": [
    "# Нормализуем данные\n",
    "columns = data.columns\n",
    "normalized = data.values\n",
    "maximums = maximums.values\n",
    "maximums = np.tile(maximums, (data.shape[0], 1))\n",
    "\n",
    "normalized = normalized / maximums\n",
    "data = pd.DataFrame(normalized, columns=columns)"
   ]
  },
  {
   "cell_type": "markdown",
   "metadata": {},
   "source": [
    "Теперь в `data` хранятся доли от максимума для каждого столбца, все значения ${\\in [0, 1]}$ \n",
    "\n",
    "Посмотрим, как у нас получилось. Это удобно сделать через `excel`"
   ]
  },
  {
   "cell_type": "code",
   "execution_count": 84,
   "metadata": {},
   "outputs": [],
   "source": [
    "data.to_excel('test.xlsx')"
   ]
  },
  {
   "cell_type": "markdown",
   "metadata": {},
   "source": [
    "Предположим, _преподаватель_ ставит оценики опираясь __общую сумму__ баллов за работы или __общий процент__ выполнения работ. \n",
    "\n",
    "Очевидно, после нормализации __общая сумма__ равна __общему проценту__, так что можно проверить корреляцию только одного параметра с оценкой.\n",
    "\n",
    "Проверим эту гипотезу"
   ]
  },
  {
   "cell_type": "code",
   "execution_count": 85,
   "metadata": {},
   "outputs": [
    {
     "name": "stdout",
     "output_type": "stream",
     "text": [
      "Корреляция суммы баллов с оценкой за семестр 0.9542\n"
     ]
    }
   ],
   "source": [
    "print(f\"Корреляция суммы баллов с оценкой за семестр {round(data['СИ'].corr(data['ОИ']), 4)}\")"
   ]
  },
  {
   "cell_type": "markdown",
   "metadata": {},
   "source": [
    "Анализ показал __высокий коэффициент корреляции__. \n",
    "\n",
    "Можно попробовать построить модели опираясь только на этот параметр.\n",
    "\n",
    "Поскольку мы работаем с __конечным количеством таргетов__ - это задача _классификации_."
   ]
  },
  {
   "cell_type": "code",
   "execution_count": 86,
   "metadata": {},
   "outputs": [],
   "source": [
    "model = LogisticRegression()"
   ]
  },
  {
   "cell_type": "markdown",
   "metadata": {},
   "source": [
    "Что бы работать с классификацией, у всех переменных должна быть целая часть"
   ]
  },
  {
   "cell_type": "code",
   "execution_count": 87,
   "metadata": {},
   "outputs": [],
   "source": [
    "X = data['СИ'].values.reshape(-1, 1) * 10\n",
    "y = data['ОИ'].values.reshape(-1, 1) * 10"
   ]
  },
  {
   "cell_type": "markdown",
   "metadata": {},
   "source": [
    "Протестируем нашу модель на _кросс-валидации_.\n",
    "\n",
    "Поскольку данных немного, мы можем позволить себе количество разбиений равное количеству строк данных."
   ]
  },
  {
   "cell_type": "code",
   "execution_count": null,
   "metadata": {},
   "outputs": [],
   "source": [
    "def kfold_test(X, y, amount_of_folds=3):\n",
    "    kf = KFold(n_splits=amount_of_folds, shuffle=True, random_state=42)\n",
    "\n",
    "    kfold_results = []\n",
    "    for train_index, test_index in kf.split(X):\n",
    "        # Создание тренировочной и тестовой выборок\n",
    "        X_train, X_test = X[train_index], X[test_index]\n",
    "        y_train, y_test = y[train_index], y[test_index]\n",
    "\n",
    "        # Обучение модели\n",
    "        model.fit(X_train, y_train)\n",
    "        result = model.score(X_test, y_test)\n",
    "        kfold_results.append(result)\n",
    "\n",
    "    # Средний результат \n",
    "    return np.array(kfold_results).mean()\n",
    "\n",
    "result = kfold_test(X, y, amount_of_folds=X.shape[0])"
   ]
  },
  {
   "cell_type": "code",
   "execution_count": 89,
   "metadata": {},
   "outputs": [
    {
     "data": {
      "text/plain": [
       "0.8518518518518519"
      ]
     },
     "execution_count": 89,
     "metadata": {},
     "output_type": "execute_result"
    }
   ],
   "source": [
    "result"
   ]
  },
  {
   "cell_type": "markdown",
   "metadata": {},
   "source": [
    "Наша модель показала высокий усредненный коэффициент детерминации на кросс-валидации.\n",
    "\n",
    "Это значит, что мы правильно выбрали модель.\n",
    "\n",
    "Согласно этому коэффициенту, наша модель с вероятностью `0.85` правильно предскажет искомое значение (в нашем случае оценку) для __неизвестных ей данных__."
   ]
  },
  {
   "cell_type": "markdown",
   "metadata": {},
   "source": [
    "На этом можно бы и остановиться, но вдруг _преподаватель_ отдает разный вес баллам за практические, контрольные работы и полусеместровые работы.\n",
    "\n",
    "Для этого представим наши данные в трех атрибутах : \n",
    "- __сумма за практические__ - `sum_prac`\n",
    "- __сумма за контрольные__ - `sum_contr`\n",
    "- __сумма за полусеместровые контроли__ - `sum_halfsem`"
   ]
  },
  {
   "cell_type": "code",
   "execution_count": 90,
   "metadata": {},
   "outputs": [],
   "source": [
    "#отбор колонок\n",
    "columns = dict()\n",
    "\n",
    "columns['prac'] = [column for column in  data.columns.tolist() if 'П' in column]\n",
    "\n",
    "columns['contr'] = [column for column in  data.columns.tolist() if column[0] == 'К']\n",
    "\n",
    "columns['halfsem'] = [column for column in  data.columns.tolist() if 'А' in column]"
   ]
  },
  {
   "cell_type": "code",
   "execution_count": 91,
   "metadata": {},
   "outputs": [],
   "source": [
    "X = {key : data[columns[key]].sum(axis=1) for key in columns.keys()}"
   ]
  },
  {
   "cell_type": "markdown",
   "metadata": {},
   "source": [
    "Нормализуем новые атрибуты"
   ]
  },
  {
   "cell_type": "code",
   "execution_count": 93,
   "metadata": {},
   "outputs": [],
   "source": [
    "X = {key : X[key] / len(columns[key]) for key in X.keys()}"
   ]
  },
  {
   "cell_type": "markdown",
   "metadata": {},
   "source": [
    "Создадим новый массив `X`"
   ]
  },
  {
   "cell_type": "code",
   "execution_count": 94,
   "metadata": {},
   "outputs": [],
   "source": [
    "X = pd.DataFrame(X)\n",
    "X = X.values * 10"
   ]
  },
  {
   "cell_type": "code",
   "execution_count": null,
   "metadata": {},
   "outputs": [],
   "source": [
    "result_multiparams = kfold_test(X, y, amount_of_folds=X.shape[0])"
   ]
  },
  {
   "cell_type": "code",
   "execution_count": 96,
   "metadata": {},
   "outputs": [
    {
     "data": {
      "text/plain": [
       "0.7407407407407407"
      ]
     },
     "execution_count": 96,
     "metadata": {},
     "output_type": "execute_result"
    }
   ],
   "source": [
    "result_multiparams"
   ]
  },
  {
   "cell_type": "markdown",
   "metadata": {},
   "source": [
    "Мы получили результат __<mark style=\"color:white;background-color:red\">хуже</mark>__, чем в прошлый раз.\n",
    "\n",
    "Значит, __такие данные избыточны__.\n",
    "\n",
    "Тем не менее, можно попробовать еще один способ: вдруг, _преподаватель_ складывает с некоторыми коэффициентами суммы баллов за контрольные, практические и полусеместровые?\n",
    "\n",
    "Для этого применим Линейную регрессию."
   ]
  },
  {
   "cell_type": "code",
   "execution_count": 97,
   "metadata": {},
   "outputs": [],
   "source": [
    "model = LinearRegression()"
   ]
  },
  {
   "cell_type": "code",
   "execution_count": 98,
   "metadata": {},
   "outputs": [],
   "source": [
    "X /= 10\n",
    "y /= 10"
   ]
  },
  {
   "cell_type": "code",
   "execution_count": 105,
   "metadata": {},
   "outputs": [],
   "source": [
    "result_linear = kfold_test(X, y, amount_of_folds=12)"
   ]
  },
  {
   "cell_type": "code",
   "execution_count": 106,
   "metadata": {},
   "outputs": [
    {
     "data": {
      "text/plain": [
       "0.46125471646266747"
      ]
     },
     "execution_count": 106,
     "metadata": {},
     "output_type": "execute_result"
    }
   ],
   "source": [
    "result_linear"
   ]
  },
  {
   "cell_type": "markdown",
   "metadata": {},
   "source": [
    "Результат на кросс-валидации неутешительный. Стоит разобраться, почему"
   ]
  },
  {
   "cell_type": "code",
   "execution_count": 107,
   "metadata": {},
   "outputs": [],
   "source": [
    "results = dict()\n",
    "for i in range(2, X.shape[0]//2):\n",
    "    result_linear = kfold_test(X, y, amount_of_folds=i)\n",
    "    results[i] = result_linear"
   ]
  },
  {
   "cell_type": "code",
   "execution_count": 109,
   "metadata": {},
   "outputs": [
    {
     "data": {
      "image/png": "[encoded data removed]",
      "text/plain": [
       "<Figure size 640x480 with 1 Axes>"
      ]
     },
     "metadata": {},
     "output_type": "display_data"
    }
   ],
   "source": [
    "sns.pointplot(x=results.keys(), y=results.values())\n",
    "plt.grid()\n",
    "plt.ylabel('Коэффициент детерминации')\n",
    "plt.xlabel('Количество разбиений данных для обучения')\n",
    "plt.show()"
   ]
  },
  {
   "cell_type": "markdown",
   "metadata": {},
   "source": [
    "Как можно заметить, __точность модели падает с ростом количества разбиений данных__\n",
    "\n",
    "Это означает, что модель склонна __запоминать данные__, а значит на новых данных она будет __неэффективна__."
   ]
  },
  {
   "cell_type": "markdown",
   "metadata": {},
   "source": [
    "# Вывод\n",
    "\n",
    "Лучшая модель - _Логистическая Регрессия_ обученная на сумме всех баллов.\n",
    "\n",
    "Такой вывод исходит из факта, что с увелечением числа атрибутов (разделение суммы всех баллов на меньшие суммы по смыслу) приводит к ухудшению результатов.\n",
    "\n",
    "Так же эксперимент с _Линейной Регрессией_ не принес результатов. Возможно, для этого недостаточно данных."
   ]
  }
 ],
 "metadata": {
  "kernelspec": {
   "display_name": "Python 3",
   "language": "python",
   "name": "python3"
  },
  "language_info": {
   "codemirror_mode": {
    "name": "ipython",
    "version": 3
   },
   "file_extension": ".py",
   "mimetype": "text/x-python",
   "name": "python",
   "nbconvert_exporter": "python",
   "pygments_lexer": "ipython3",
   "version": "3.11.7"
  }
 },
 "nbformat": 4,
 "nbformat_minor": 2
}
